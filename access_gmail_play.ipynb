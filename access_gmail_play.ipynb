{
 "cells": [
  {
   "cell_type": "code",
   "execution_count": 5,
   "id": "0a72d026-714f-43e2-a436-7b363e7f3ba4",
   "metadata": {},
   "outputs": [],
   "source": [
    "import glob\n",
    "import base64\n",
    "import os.path\n",
    "import numpy as np\n",
    "import pandas as pd\n",
    "\n",
    "from googleapiclient.discovery import build\n",
    "from google.oauth2.credentials import Credentials\n",
    "from google.auth.transport.requests import Request\n",
    "from google_auth_oauthlib.flow import InstalledAppFlow\n",
    "\n",
    "from email import encoders\n",
    "from email.mime.base import MIMEBase\n",
    "from email.mime.text import MIMEText\n",
    "from email.mime.multipart import MIMEMultipart\n",
    "\n",
    "import access_gmail as ag"
   ]
  },
  {
   "cell_type": "code",
   "execution_count": 6,
   "id": "a48e97d4-51c4-443a-afac-feb1debef749",
   "metadata": {},
   "outputs": [
    {
     "data": {
      "text/plain": [
       "<module 'access_gmail' from '/Users/darthpatel/Library/CloudStorage/Dropbox/FunProjects/Gmail-API/access_gmail.py'>"
      ]
     },
     "execution_count": 6,
     "metadata": {},
     "output_type": "execute_result"
    }
   ],
   "source": [
    "from importlib import reload\n",
    "reload(ag)"
   ]
  },
  {
   "cell_type": "markdown",
   "id": "4d54eaef-553b-4d64-a2e8-676a8603c4b9",
   "metadata": {},
   "source": [
    "## Scopes check"
   ]
  },
  {
   "cell_type": "code",
   "execution_count": 7,
   "id": "8abfdd1e-7645-4817-9721-6ccd79768502",
   "metadata": {},
   "outputs": [
    {
     "data": {
      "text/plain": [
       "['https://www.googleapis.com/auth/spreadsheets',\n",
       " 'https://www.googleapis.com/auth/spreadsheets.readonly',\n",
       " 'https://www.googleapis.com/auth/drive',\n",
       " 'https://www.googleapis.com/auth/gmail.send',\n",
       " 'https://www.googleapis.com/auth/drive.file',\n",
       " 'https://www.googleapis.com/auth/gmail.labels',\n",
       " 'https://www.googleapis.com/auth/gmail.compose',\n",
       " 'https://www.googleapis.com/auth/gmail.modify',\n",
       " 'https://www.googleapis.com/auth/drive.activity',\n",
       " 'https://mail.google.com/',\n",
       " 'https://www.googleapis.com/auth/contacts.readonly',\n",
       " 'https://www.googleapis.com/auth/drive.metadata.readonly',\n",
       " 'https://www.googleapis.com/auth/gmail.addons.current.action.compose',\n",
       " 'https://www.googleapis.com/auth/gmail.addons.current.message.action']"
      ]
     },
     "execution_count": 7,
     "metadata": {},
     "output_type": "execute_result"
    }
   ],
   "source": [
    "SCOPES = ag.SCOPES\n",
    "SCOPES"
   ]
  },
  {
   "cell_type": "markdown",
   "id": "0fdc8407-98c1-417c-aa4a-641a8dbe630f",
   "metadata": {},
   "source": [
    "## Credentials generation or load"
   ]
  },
  {
   "cell_type": "code",
   "execution_count": 8,
   "id": "f7488118-7ab5-4a93-9423-45050912862c",
   "metadata": {},
   "outputs": [
    {
     "name": "stdout",
     "output_type": "stream",
     "text": [
      "Please visit this URL to authorize this application: https://accounts.google.com/o/oauth2/auth?response_type=code&client_id=5236653841-gn2vg6si5ld9u9c601utukk1vnan3ulk.apps.googleusercontent.com&redirect_uri=http%3A%2F%2Flocalhost%3A58165%2F&scope=https%3A%2F%2Fwww.googleapis.com%2Fauth%2Fspreadsheets+https%3A%2F%2Fwww.googleapis.com%2Fauth%2Fspreadsheets.readonly+https%3A%2F%2Fwww.googleapis.com%2Fauth%2Fdrive+https%3A%2F%2Fwww.googleapis.com%2Fauth%2Fgmail.send+https%3A%2F%2Fwww.googleapis.com%2Fauth%2Fdrive.file+https%3A%2F%2Fwww.googleapis.com%2Fauth%2Fgmail.labels+https%3A%2F%2Fwww.googleapis.com%2Fauth%2Fgmail.compose+https%3A%2F%2Fwww.googleapis.com%2Fauth%2Fgmail.modify+https%3A%2F%2Fwww.googleapis.com%2Fauth%2Fdrive.activity+https%3A%2F%2Fmail.google.com%2F+https%3A%2F%2Fwww.googleapis.com%2Fauth%2Fcontacts.readonly+https%3A%2F%2Fwww.googleapis.com%2Fauth%2Fdrive.metadata.readonly+https%3A%2F%2Fwww.googleapis.com%2Fauth%2Fgmail.addons.current.action.compose+https%3A%2F%2Fwww.googleapis.com%2Fauth%2Fgmail.addons.current.message.action&state=jPEsyTat9gbmctYdzc6sxI7aLArJUP&access_type=offline\n"
     ]
    }
   ],
   "source": [
    "creds = ag.create_token()\n",
    "# Initialize the Gmail API\n",
    "service = build('gmail', 'v1', credentials=creds)\n",
    "people_service = build('people', 'v1', credentials=creds)"
   ]
  },
  {
   "cell_type": "markdown",
   "id": "6adfb292-2d82-4549-9687-ee25f90d7c9b",
   "metadata": {},
   "source": [
    "## Email labels and list of emails"
   ]
  },
  {
   "cell_type": "code",
   "execution_count": 5,
   "id": "a019839b-49ed-4f06-bae1-fde5dbf7b248",
   "metadata": {},
   "outputs": [
    {
     "ename": "HttpError",
     "evalue": "<HttpError 400 when requesting https://gmail.googleapis.com/gmail/v1/users/me/messages?labelIds=AoT+Subscribed&alt=json returned \"Invalid label: AoT Subscribed\". Details: \"[{'message': 'Invalid label: AoT Subscribed', 'domain': 'global', 'reason': 'invalidArgument'}]\">",
     "output_type": "error",
     "traceback": [
      "\u001b[0;31m---------------------------------------------------------------------------\u001b[0m",
      "\u001b[0;31mHttpError\u001b[0m                                 Traceback (most recent call last)",
      "Cell \u001b[0;32mIn[5], line 8\u001b[0m\n\u001b[1;32m      2\u001b[0m label_id \u001b[38;5;241m=\u001b[39m \u001b[38;5;124m'\u001b[39m\u001b[38;5;124mAoT Subscribed\u001b[39m\u001b[38;5;124m'\u001b[39m\n\u001b[1;32m      4\u001b[0m \u001b[38;5;66;03m# Get emails with the specified label\u001b[39;00m\n\u001b[1;32m      5\u001b[0m \n\u001b[1;32m      6\u001b[0m \u001b[38;5;66;03m# emails = ag.get_emails_by_label(service, label_id)\u001b[39;00m\n\u001b[1;32m      7\u001b[0m \u001b[38;5;66;03m############## - get emails by label start\u001b[39;00m\n\u001b[0;32m----> 8\u001b[0m results \u001b[38;5;241m=\u001b[39m service\u001b[38;5;241m.\u001b[39musers()\u001b[38;5;241m.\u001b[39mmessages()\u001b[38;5;241m.\u001b[39mlist(userId\u001b[38;5;241m=\u001b[39m\u001b[38;5;124m'\u001b[39m\u001b[38;5;124mme\u001b[39m\u001b[38;5;124m'\u001b[39m, labelIds\u001b[38;5;241m=\u001b[39m[label_id])\u001b[38;5;241m.\u001b[39mexecute()\n\u001b[1;32m      9\u001b[0m messages \u001b[38;5;241m=\u001b[39m results\u001b[38;5;241m.\u001b[39mget(\u001b[38;5;124m'\u001b[39m\u001b[38;5;124mmessages\u001b[39m\u001b[38;5;124m'\u001b[39m, [])\n\u001b[1;32m     10\u001b[0m emails \u001b[38;5;241m=\u001b[39m []\n",
      "File \u001b[0;32m~/miniconda3/envs/aot/lib/python3.12/site-packages/googleapiclient/_helpers.py:130\u001b[0m, in \u001b[0;36mpositional.<locals>.positional_decorator.<locals>.positional_wrapper\u001b[0;34m(*args, **kwargs)\u001b[0m\n\u001b[1;32m    128\u001b[0m     \u001b[38;5;28;01melif\u001b[39;00m positional_parameters_enforcement \u001b[38;5;241m==\u001b[39m POSITIONAL_WARNING:\n\u001b[1;32m    129\u001b[0m         logger\u001b[38;5;241m.\u001b[39mwarning(message)\n\u001b[0;32m--> 130\u001b[0m \u001b[38;5;28;01mreturn\u001b[39;00m wrapped(\u001b[38;5;241m*\u001b[39margs, \u001b[38;5;241m*\u001b[39m\u001b[38;5;241m*\u001b[39mkwargs)\n",
      "File \u001b[0;32m~/miniconda3/envs/aot/lib/python3.12/site-packages/googleapiclient/http.py:938\u001b[0m, in \u001b[0;36mHttpRequest.execute\u001b[0;34m(self, http, num_retries)\u001b[0m\n\u001b[1;32m    936\u001b[0m     callback(resp)\n\u001b[1;32m    937\u001b[0m \u001b[38;5;28;01mif\u001b[39;00m resp\u001b[38;5;241m.\u001b[39mstatus \u001b[38;5;241m>\u001b[39m\u001b[38;5;241m=\u001b[39m \u001b[38;5;241m300\u001b[39m:\n\u001b[0;32m--> 938\u001b[0m     \u001b[38;5;28;01mraise\u001b[39;00m HttpError(resp, content, uri\u001b[38;5;241m=\u001b[39m\u001b[38;5;28mself\u001b[39m\u001b[38;5;241m.\u001b[39muri)\n\u001b[1;32m    939\u001b[0m \u001b[38;5;28;01mreturn\u001b[39;00m \u001b[38;5;28mself\u001b[39m\u001b[38;5;241m.\u001b[39mpostproc(resp, content)\n",
      "\u001b[0;31mHttpError\u001b[0m: <HttpError 400 when requesting https://gmail.googleapis.com/gmail/v1/users/me/messages?labelIds=AoT+Subscribed&alt=json returned \"Invalid label: AoT Subscribed\". Details: \"[{'message': 'Invalid label: AoT Subscribed', 'domain': 'global', 'reason': 'invalidArgument'}]\">"
     ]
    }
   ],
   "source": [
    "\n",
    "\n",
    "# Define the label you want to filter by (replace 'YOUR_LABEL_ID' with your actual label ID)\n",
    "label_id = 'AoT Subscribed'\n",
    "\n",
    "# Get emails with the specified label\n",
    "\n",
    "# emails = ag.get_emails_by_label(service, label_id)\n",
    "############## - get emails by label start\n",
    "results = service.users().messages().list(userId='me', labelIds=[label_id]).execute()\n",
    "messages = results.get('messages', [])\n",
    "emails = []\n",
    "for message in messages:\n",
    "    msg = service.users().messages().get(userID='me',id=message['id']).execute()\n",
    "    email_data = {\n",
    "        'id': msg['id'],\n",
    "        'snippet': msg['snippet'],\n",
    "        'payload': msg['payload']\n",
    "    }\n",
    "    emails.append(email_data)\n",
    "\n",
    "\n",
    "\n",
    "##############\n",
    "\n",
    "print(f'Found {len(emails)} emails with label {label_id}')\n",
    "for email in emails:\n",
    "    print(f'Email ID: {email[\"id\"]}, Snippet: {email[\"snippet\"]}')"
   ]
  },
  {
   "cell_type": "code",
   "execution_count": null,
   "id": "1557f51b-1231-43ce-9036-c129d3f77517",
   "metadata": {},
   "outputs": [],
   "source": [
    "contacts = ag.get_contacts(people_service)"
   ]
  },
  {
   "cell_type": "code",
   "execution_count": null,
   "id": "15d04e2f-22b9-46f9-85f6-c13fe294b639",
   "metadata": {},
   "outputs": [],
   "source": [
    "contacts"
   ]
  },
  {
   "cell_type": "markdown",
   "id": "9b5a3cf4-5ba4-40f4-81ad-e7e0bc83c355",
   "metadata": {},
   "source": [
    "## HTML content"
   ]
  },
  {
   "cell_type": "code",
   "execution_count": 52,
   "id": "a6fe45ce-a11a-4952-a0df-43eacbb244eb",
   "metadata": {},
   "outputs": [],
   "source": [
    "event_day = 'THURS.'\n",
    "event_month = 'June'\n",
    "event_date = '27th'\n",
    "event_edition = 'Summer Solstice Edition'\n",
    "location = 'Jackalope Brewing – Tap Room'\n",
    "speaker1_name = 'Dr. Chayan Chatterjee'\n",
    "speaker1_title = 'Listening to the Cosmic Orchestra Using A.I.'\n",
    "speaker2_name = 'Dr. Aaron Stemo'\n",
    "speaker2_title = 'Black Holes Don\\'t Suck'\n",
    "eventbrite_link = 'https://www.eventbrite.com'\n",
    "other_news = ''  # additional messages\n",
    "\n",
    "html_content2 = f\"\"\"\n",
    "<!DOCTYPE html>\n",
    "<html>\n",
    "<head>\n",
    "    <title>Astronomy on Tap - {event_edition}</title>\n",
    "</head>\n",
    "<body>\n",
    "    <p>Dear AoT-ers!</p>\n",
    "    <p>We are pleased to announce that our <strong>{event_edition}</strong> event for\n",
    "    Astronomy on Tap will be held on <strong>{event_day} {event_month} {event_date}</strong> at the <strong>{location}</strong>!</p>\n",
    "    <p>This event will feature 2 amazing speakers:</p>\n",
    "    <ul>\n",
    "        <li><strong>{speaker1_name}</strong><br><em>{speaker1_title}</em></li>\n",
    "        <li><strong>{speaker2_name}</strong><br><em>{speaker2_title}</em></li>\n",
    "    </ul>\n",
    "    <p>There will be trivia and more prizes after! So come on out after a long day of hard work in the middle of the week and relax while we bombard you with fun astro facts, beer, and prizes!</p>\n",
    "    <p>Make sure to <a href=\"{eventbrite_link}\" target=\"_blank\">RSVP for the free event at EventBrite</a>.</p>\n",
    "    <p>Please share to all and any who might be interested!</p>\n",
    "    <p><strong>Doors 7pm | Show 7:30 pm</strong></p>\n",
    "    <p><a href=\"https://www.google.com/maps/place/Jackalope+Brewing\" target=\"_blank\">Parking Instructions</a></p>\n",
    "    <p>{other_news}</p>\n",
    "    <p>If you wish to unsubscribe, reply to this email</p>\n",
    "    <p>Sincerely,\n",
    "    <br>AoT Nashville Team</p>\n",
    "<br>\n",
    "<div>\n",
    "    <div style=\"text-align:center; color:rgb(34,34,34)\">\n",
    "        <img data-aii=\"CiExR3hhR1hFMERrVm9idFl0QWRzUWZ3SGhSemtIU0dGZ0I\" width=\"96\" height=\"96\" \n",
    "             src=\"https://ci3.googleusercontent.com/mail-sig/AIorK4wR7MgccJn6Wi3LFcw0z4QsBsos9nAKfBYh9BxpNHb006gIZIZwnz_hNMZQFongZ6f5_uEHKaQ\" \n",
    "             data-os=\"https://lh3.googleusercontent.com/d/1GxaGXE0DkVobtYtAdsQfwHhRzkHSGFgB\">\n",
    "        <br>\n",
    "    </div>\n",
    "    <div style=\"text-align:center; color:rgb(34,34,34)\">\n",
    "        Astronomy on Tap - Nashville\n",
    "    </div>\n",
    "    <div style=\"text-align:center; color:rgb(34,34,34)\">\n",
    "        <b>\n",
    "            <a href=\"https://www.instagram.com/aotnashville/\" style=\"color:rgb(17,85,204)\" target=\"_blank\">Instagram</a>&nbsp;|&nbsp;\n",
    "            <a href=\"https://www.facebook.com/aotnashville\" target=\"_blank\">Facebook</a>\n",
    "        </b>\n",
    "    </div>\n",
    "</div>\n",
    "\n",
    "</body>\n",
    "</html>\n",
    "\"\"\""
   ]
  },
  {
   "cell_type": "code",
   "execution_count": 6,
   "id": "671c4a38-d0b6-4ddf-98f1-592a854757a9",
   "metadata": {},
   "outputs": [],
   "source": [
    "sender = 'aotnahsville@gmail.com'\n",
    "subject = '[Astro on Tap] -- blah blah'\n",
    "message_text = html_content"
   ]
  },
  {
   "cell_type": "code",
   "execution_count": null,
   "id": "ab8f7ea1-f69d-4ae5-b2b9-85c56666a13c",
   "metadata": {},
   "outputs": [],
   "source": [
    "message = MIMEMultipart()\n",
    "message['to'] = 'anakha.1@gmail.com'\n",
    "message['from'] = sender\n",
    "message['subject'] = subject\n",
    "msg = MIMEText(message_text)\n",
    "message.attach(msg)\n",
    "raw = base64.urlsafe_b64encode(message.as_bytes()).decode()"
   ]
  },
  {
   "cell_type": "code",
   "execution_count": null,
   "id": "725d6cb8-f9a8-41c9-9d0a-3e062393022f",
   "metadata": {},
   "outputs": [],
   "source": [
    "message_raw = {'raw':raw}\n",
    "ag.send_message(service,'me',message_raw)"
   ]
  },
  {
   "cell_type": "code",
   "execution_count": 11,
   "id": "b213e120-92ef-4718-83c6-b97059a8ed61",
   "metadata": {},
   "outputs": [],
   "source": [
    "message = EmailMessage()\n",
    "\n",
    "message.set_content(\"This is automated draft mail\")\n",
    "\n",
    "message[\"To\"] = \"anakha.1@gmail.com\"\n",
    "message[\"From\"] = sender\n",
    "message[\"Subject\"] = \"Automated draft\"\n",
    "\n",
    "# encoded message\n",
    "encoded_message = base64.urlsafe_b64encode(message.as_bytes()).decode()\n",
    "\n",
    "create_message = {\"message\": {\"raw\": encoded_message}}\n",
    "# pylint: disable=E1101\n",
    "draft = (\n",
    "    service.users()\n",
    "    .drafts()\n",
    "    .create(userId=\"me\", body=create_message)\n",
    "    .execute()\n",
    ")\n"
   ]
  },
  {
   "cell_type": "code",
   "execution_count": 13,
   "id": "26277e29-ef4a-46b8-8df3-dc535f20e48b",
   "metadata": {},
   "outputs": [
    {
     "name": "stdout",
     "output_type": "stream",
     "text": [
      "Draft id: r5379049820878808303\n",
      "Draft message: {'id': '19026c70d684a3be', 'threadId': '19026c70d684a3be', 'labelIds': ['DRAFT']}\n"
     ]
    }
   ],
   "source": [
    "print(f'Draft id: {draft[\"id\"]}\\nDraft message: {draft[\"message\"]}')\n"
   ]
  },
  {
   "cell_type": "code",
   "execution_count": 14,
   "id": "081abeae-1e5b-494b-80b7-56e925a5a574",
   "metadata": {},
   "outputs": [
    {
     "data": {
      "text/plain": [
       "{'id': '19026c70d684a3be',\n",
       " 'threadId': '19026c70d684a3be',\n",
       " 'labelIds': ['DRAFT']}"
      ]
     },
     "execution_count": 14,
     "metadata": {},
     "output_type": "execute_result"
    }
   ],
   "source": [
    "draft['message']"
   ]
  },
  {
   "cell_type": "code",
   "execution_count": 21,
   "id": "b7679ef4-5a23-4dbd-90a1-87539dd779be",
   "metadata": {},
   "outputs": [],
   "source": [
    "message = MIMEMultipart('alternative') #EmailMessage()\n",
    "#message.set_content(html_content)\n",
    "message['To'] = 'ripatel272@gmail.com,anakha.1@gmail.com,malvikag12@gmail.com'\n",
    "message['From'] = sender\n",
    "message['Subject'] = 'Test'\n",
    "\n",
    "msg = MIMEText(html_content,'html')\n",
    "message.attach(msg)\n",
    "encoded_message = base64.urlsafe_b64encode(message.as_bytes()).decode()\n",
    "create_message = {'raw':encoded_message}\n",
    "send_message = service.users().messages().send(userId=\"me\", body=create_message).execute()"
   ]
  },
  {
   "cell_type": "markdown",
   "id": "c6401f13-12d5-47e7-b9c1-9652ca6b27c8",
   "metadata": {},
   "source": [
    "## add attachment google drive local to email message"
   ]
  },
  {
   "cell_type": "code",
   "execution_count": 57,
   "id": "fd0cdf41-5b15-4ab9-ab46-5c60bca8dcd0",
   "metadata": {},
   "outputs": [
    {
     "data": {
      "text/plain": [
       "['/Users/darthpatel/Library/CloudStorage/GoogleDrive-aotnashville@gmail.com/My Drive/Event_flyers/AoT_June2024.pdf',\n",
       " '/Users/darthpatel/Library/CloudStorage/GoogleDrive-aotnashville@gmail.com/My Drive/Event_flyers/AoT_June2024_Insta.png']"
      ]
     },
     "execution_count": 57,
     "metadata": {},
     "output_type": "execute_result"
    }
   ],
   "source": [
    "import glob\n",
    "file_path = '/Users/darthpatel/Library/CloudStorage/GoogleDrive-aotnashville@gmail.com/My Drive/Event_flyers/'\n",
    "# file_path = '/Users/darthpatel/Downloads/'\n",
    "files_2_attach = glob.glob(file_path + '*June*')\n",
    "files_2_attach"
   ]
  },
  {
   "cell_type": "code",
   "execution_count": 58,
   "id": "dc818d61-7d45-470a-84c0-8b7751026fe6",
   "metadata": {},
   "outputs": [],
   "source": [
    "message = MIMEMultipart('resumable') #EmailMessage()\n",
    "#message.set_content(html_content)\n",
    "message['To'] = 'ripatel272@gmail.com,anakha.1@gmail.com'#,malvikag12@gmail.com'\n",
    "message['From'] = sender\n",
    "message['Subject'] = 'Test'\n",
    "message['bcc'] = 'ripatel272@gmail.com, anakha.1@gmail.com'\n",
    "msg = MIMEText(html_content,'html')\n",
    "message.attach(msg)\n",
    "# Initialize the Drive API\n",
    "\n",
    "for file_attach in files_2_attach:\n",
    "    with open(file_attach, 'rb') as f:\n",
    "        mime_base = MIMEBase('application','octet-stream')\n",
    "        mime_base.set_payload(f.read())\n",
    "        encoders.encode_base64(mime_base)\n",
    "        mime_base.add_header('Content-Disposition','attachment',filename=file_attach)\n",
    "        message.attach(mime_base)\n",
    "\n",
    "encoded_message = base64.urlsafe_b64encode(message.as_bytes()).decode()\n",
    "create_message = {'raw':encoded_message}\n",
    "\n",
    "send_message = service.users().messages().send(userId=\"me\", body=create_message).execute()\n"
   ]
  },
  {
   "cell_type": "code",
   "execution_count": 48,
   "id": "afbf342d-6376-4a0b-bdad-932a9f012c85",
   "metadata": {},
   "outputs": [
    {
     "data": {
      "text/plain": [
       "<googleapiclient.discovery.Resource at 0x110548c50>"
      ]
     },
     "execution_count": 48,
     "metadata": {},
     "output_type": "execute_result"
    }
   ],
   "source": [
    "service"
   ]
  },
  {
   "cell_type": "markdown",
   "id": "2755f991-0cbd-4efb-8ffc-54d6e42e6fe1",
   "metadata": {},
   "source": [
    "## Get contacts"
   ]
  },
  {
   "cell_type": "code",
   "execution_count": 80,
   "id": "e338d7b2-cc3d-4b63-9602-2ed484393fa0",
   "metadata": {},
   "outputs": [
    {
     "data": {
      "text/plain": [
       "<googleapiclient.discovery.Resource at 0x112949c40>"
      ]
     },
     "execution_count": 80,
     "metadata": {},
     "output_type": "execute_result"
    }
   ],
   "source": [
    "people_service"
   ]
  },
  {
   "cell_type": "code",
   "execution_count": 72,
   "id": "03036064-34c5-4c01-b7d3-307dc631dccb",
   "metadata": {},
   "outputs": [
    {
     "data": {
      "text/plain": [
       "'priabraham@gmail.com,lizziehinson96@gmail.com,ilija.medan@vanderbilt.edu,heathergc2k19@gmail.com,Cthomp28@gmail.com,selliott@fwpublishing.com,michael.z.reynolds@vanderbilt.edu,lauren.n.kasper@vanderbilt.edu,riyengar828@gmail.com,jennifer.l.james@vanderbilt.edu,alec.myszka@me.com,info@chefpaulette.net,roman.berens@vanderbilt.edu,beardeadsaint22@outlook.com,Kyle.Hawkins@vanderbilt.edu,a.rockafellar@vanderbilt.edu,margiedz@yahoo.com,Ashley.e.brammer@vanderbilt.edu,Ccoca@fisk.edu,Patricia.a.ward.3@vanderbilt.edu,Kelly.gravity@gmail.com,donald.pickert@VANDERBILT.EDU,coolspringsmoderndentistry@smilegeneration.com,mmarcano@fisk.edu,william.k.teets@vanderbilt.edu,jonathan.bird@vanderbilt.edu,alexandra.f.rockafellar@vanderbilt.edu,info@bsasnashville.com,thryan13@gmail.com,mattdoc@hotmail.com,pencekt@gmail.com,edgar.carrillo@vanderbilt.edu,info@bsasnashville.com,christina.mcgahan@vanderbilt.edu,mary.e.kaldor@vanderbilt.edu,vaiby@hotmail.com,nicholas-tyler.howard@vanderbilt.edu,grimblw@vanderbilt.edu,carolyn.drake@vanderbilt.edu,ryan.nowicki@vanderbilt.edu,erika.taylor@vanderbilt.edu,dyerobservatory@vanderbilt.edu,sean@tentenstudios.com,kaitlyn.t.lane@vanderbilt.edu,reevesaf@gmail.com,miranda@jackalopebrew.com,mcdigman@gmail.com,randy@worklifebalancenashville.com,alupsasca@gmail.com,kHammer8280@aol.com,drew@newtonscannon.com,cate.enstrom@gmail.com,seaychloe@gmail.com,jordandias617@gmail.com,sfrederi7@gmail.com,dbjohnston31@gmail.com,nehemiah.j.williams@gmail.com,bchurlbut@gmail.com,bethcolf@gmail.com,connorparde@gmail.com,jeckelng@gmail.com,dpe00a@gmail.com,aaronkyehudson@gmail.com,abrahamdocs@gmail.com,apeschet@gmail.com,tmwellington@comcast.net,Edgarc.ec@gmail.com,sade.johnson@nashville.gov,donald.filer@yale.edu,warrickelaine@gmail.com,tjpencarinha@gmail.com,mbsnahsville@outlook.com,jgras330@gmail.com,aderdzinski@fisk.edu,eleonore@jackalopebrew.com'"
      ]
     },
     "execution_count": 72,
     "metadata": {},
     "output_type": "execute_result"
    }
   ],
   "source": [
    "gmail_emails = ag.get_contacts(people_service)\n",
    "','.join(gmail_emails)"
   ]
  },
  {
   "cell_type": "markdown",
   "id": "aeeced19-4afb-4355-9256-a2fa2ba9bbd0",
   "metadata": {},
   "source": [
    "## Get contacts from google sheets"
   ]
  },
  {
   "cell_type": "markdown",
   "id": "8be7779e-d8ed-46c4-a54c-2c41574a5a08",
   "metadata": {},
   "source": [
    "### Get sheet id names and ID"
   ]
  },
  {
   "cell_type": "code",
   "execution_count": 42,
   "id": "cfb08a14-c465-4cf8-856b-408e0623a0b9",
   "metadata": {},
   "outputs": [],
   "source": [
    "service_drive = build('drive', 'v3', credentials=creds)\n",
    "\n",
    "# Define the query to filter only Google Sheets files\n",
    "query = \"mimeType='application/vnd.google-apps.spreadsheet'\"\n",
    "\n",
    "# Call the Drive API to list files\n",
    "results = service_drive.files().list(q=query, fields=\"files(id, name)\").execute()\n",
    "items = results.get('files', [])\n",
    "sheets_part_addy = 'https://docs.google.com/spreadsheets/d/'\n",
    "sheets_info = {}\n",
    "if not items:\n",
    "    print('No files found.')\n",
    "else:\n",
    "    for item in items:\n",
    "        sheets_info[item['name']] = {'url':f\"{sheets_part_addy}{item['id']}/edit\",\n",
    "                                     'id':item['id']}\n",
    "        "
   ]
  },
  {
   "cell_type": "code",
   "execution_count": 43,
   "id": "378e795d-020f-46a4-8003-c7ce1610fb84",
   "metadata": {
    "collapsed": true,
    "jupyter": {
     "outputs_hidden": true
    }
   },
   "outputs": [
    {
     "data": {
      "text/plain": [
       "{'Speaker List/Schedule/stats': {'url': 'https://docs.google.com/spreadsheets/d/19AW_a_DHoy4z3WJOqXvFceI_fP6crSyp0afw5wdWdds/edit',\n",
       "  'id': '19AW_a_DHoy4z3WJOqXvFceI_fP6crSyp0afw5wdWdds'},\n",
       " 'Astronomy on Tap - Email Sign-up (Responses)': {'url': 'https://docs.google.com/spreadsheets/d/1qUAXI_XPnOSKaooCKvS666iLeKi77JiRs3IzpdKTttg/edit',\n",
       "  'id': '1qUAXI_XPnOSKaooCKvS666iLeKi77JiRs3IzpdKTttg'},\n",
       " 'AoT Satellites': {'url': 'https://docs.google.com/spreadsheets/d/1P3rM9BU30R_SiaK_3315jEYsdTWL9XtD8NV67HZlIeM/edit',\n",
       "  'id': '1P3rM9BU30R_SiaK_3315jEYsdTWL9XtD8NV67HZlIeM'},\n",
       " 'Speaker Information  (Responses)': {'url': 'https://docs.google.com/spreadsheets/d/1gFugAoIBDqFBq5ej5ZwECh3vdqzpMikQBRStoahFL6o/edit',\n",
       "  'id': '1gFugAoIBDqFBq5ej5ZwECh3vdqzpMikQBRStoahFL6o'},\n",
       " 'AoT Games': {'url': 'https://docs.google.com/spreadsheets/d/1exY5yxZx702anzm0_9R-5Bd-JADTZXUKiXTctU3Q4Ns/edit',\n",
       "  'id': '1exY5yxZx702anzm0_9R-5Bd-JADTZXUKiXTctU3Q4Ns'},\n",
       " 'AoT Nashville Speaker Solicitation (Responses)': {'url': 'https://docs.google.com/spreadsheets/d/1AlbM9HJdiCeLnrAjM5h5Fdag7v6OLc2yVMyy7DjgwPI/edit',\n",
       "  'id': '1AlbM9HJdiCeLnrAjM5h5Fdag7v6OLc2yVMyy7DjgwPI'},\n",
       " 'Bank': {'url': 'https://docs.google.com/spreadsheets/d/1Q3ro5m02BBZVKqu9u8y6Y-UHRlztNlLx3cuNkkhcu1o/edit',\n",
       "  'id': '1Q3ro5m02BBZVKqu9u8y6Y-UHRlztNlLx3cuNkkhcu1o'},\n",
       " 'Trivia Q&A': {'url': 'https://docs.google.com/spreadsheets/d/145SfzBovkB4D2aufaXHxCIgRccUFZz7LyDZUREhcah4/edit',\n",
       "  'id': '145SfzBovkB4D2aufaXHxCIgRccUFZz7LyDZUREhcah4'},\n",
       " 'Marketing/Venues': {'url': 'https://docs.google.com/spreadsheets/d/1iHnVfI-E2a4ZoOBgOcOmPSI4GjT0RO6A0ij33HL-JSI/edit',\n",
       "  'id': '1iHnVfI-E2a4ZoOBgOcOmPSI4GjT0RO6A0ij33HL-JSI'}}"
      ]
     },
     "execution_count": 43,
     "metadata": {},
     "output_type": "execute_result"
    }
   ],
   "source": [
    "sheets_info"
   ]
  },
  {
   "cell_type": "code",
   "execution_count": 40,
   "id": "dc0f581c-3300-4973-97d4-b86f8c799a7d",
   "metadata": {},
   "outputs": [],
   "source": [
    "import re\n",
    "sheets_2_find = '.*Email*.*Responses*.'\n",
    "regex = re.compile(sheets_2_find, re.IGNORECASE)\n",
    "try:\n",
    "    name_of_email_sheet = list(filter(regex.match,sheets_info.keys()))[0]\n",
    "except:\n",
    "    print(f'Could not find sheet with regex: {sheets_2_find}')\n",
    "    print('Reason unknown')"
   ]
  },
  {
   "cell_type": "code",
   "execution_count": 41,
   "id": "e8431e7d-2675-41d4-a874-10bd3e0bc629",
   "metadata": {},
   "outputs": [
    {
     "data": {
      "text/plain": [
       "'Astronomy on Tap - Email Sign-up (Responses)'"
      ]
     },
     "execution_count": 41,
     "metadata": {},
     "output_type": "execute_result"
    }
   ],
   "source": [
    "name_of_email_sheet"
   ]
  },
  {
   "cell_type": "markdown",
   "id": "26a06574-b860-4a26-a99c-67277526b80a",
   "metadata": {},
   "source": [
    "## Get sheet data"
   ]
  },
  {
   "cell_type": "code",
   "execution_count": 50,
   "id": "a57deeac-6dac-4cfb-9bf4-2867fe48486e",
   "metadata": {},
   "outputs": [],
   "source": [
    "import pandas as pd"
   ]
  },
  {
   "cell_type": "code",
   "execution_count": 47,
   "id": "41f5d93b-0590-478c-8e1a-58138eab0bd4",
   "metadata": {},
   "outputs": [],
   "source": [
    "spreadsheet_id = sheets_info[name_of_email_sheet]['id']"
   ]
  },
  {
   "cell_type": "code",
   "execution_count": 67,
   "id": "d584dea1-03e8-4d83-9f63-f05d387ef19f",
   "metadata": {},
   "outputs": [
    {
     "data": {
      "text/plain": [
       "['Timestamp', 'Name', 'Email Address', 'Email Address2']"
      ]
     },
     "execution_count": 67,
     "metadata": {},
     "output_type": "execute_result"
    }
   ],
   "source": [
    "values[0]"
   ]
  },
  {
   "cell_type": "code",
   "execution_count": 90,
   "id": "096c3eeb-cd68-471b-839d-ebd267c70251",
   "metadata": {},
   "outputs": [
    {
     "data": {
      "text/html": [
       "<div>\n",
       "<style scoped>\n",
       "    .dataframe tbody tr th:only-of-type {\n",
       "        vertical-align: middle;\n",
       "    }\n",
       "\n",
       "    .dataframe tbody tr th {\n",
       "        vertical-align: top;\n",
       "    }\n",
       "\n",
       "    .dataframe thead th {\n",
       "        text-align: right;\n",
       "    }\n",
       "</style>\n",
       "<table border=\"1\" class=\"dataframe\">\n",
       "  <thead>\n",
       "    <tr style=\"text-align: right;\">\n",
       "      <th></th>\n",
       "      <th>Email Address</th>\n",
       "    </tr>\n",
       "  </thead>\n",
       "  <tbody>\n",
       "    <tr>\n",
       "      <th>0</th>\n",
       "      <td>mmarcano@fisk.edu</td>\n",
       "    </tr>\n",
       "    <tr>\n",
       "      <th>1</th>\n",
       "      <td>edgar.carrillo@vanderbilt.edu</td>\n",
       "    </tr>\n",
       "    <tr>\n",
       "      <th>2</th>\n",
       "      <td>ryan.nowicki@vanderbilt.edu</td>\n",
       "    </tr>\n",
       "    <tr>\n",
       "      <th>3</th>\n",
       "      <td>mary.e.kaldor@vanderbilt.edu</td>\n",
       "    </tr>\n",
       "    <tr>\n",
       "      <th>4</th>\n",
       "      <td>Patricia.a.ward.3@vanderbilt.edu</td>\n",
       "    </tr>\n",
       "    <tr>\n",
       "      <th>...</th>\n",
       "      <td>...</td>\n",
       "    </tr>\n",
       "    <tr>\n",
       "      <th>70</th>\n",
       "      <td>Kyle.Hawkins@vanderbilt.edu</td>\n",
       "    </tr>\n",
       "    <tr>\n",
       "      <th>71</th>\n",
       "      <td>jordandias617@gmail.com</td>\n",
       "    </tr>\n",
       "    <tr>\n",
       "      <th>72</th>\n",
       "      <td>tjpencarinha@gmail.com</td>\n",
       "    </tr>\n",
       "    <tr>\n",
       "      <th>73</th>\n",
       "      <td>Joey Grassi</td>\n",
       "    </tr>\n",
       "    <tr>\n",
       "      <th>74</th>\n",
       "      <td>mbsnahsville@outlook.com</td>\n",
       "    </tr>\n",
       "  </tbody>\n",
       "</table>\n",
       "<p>75 rows × 1 columns</p>\n",
       "</div>"
      ],
      "text/plain": [
       "                       Email Address\n",
       "0                  mmarcano@fisk.edu\n",
       "1     edgar.carrillo@vanderbilt.edu \n",
       "2        ryan.nowicki@vanderbilt.edu\n",
       "3       mary.e.kaldor@vanderbilt.edu\n",
       "4   Patricia.a.ward.3@vanderbilt.edu\n",
       "..                               ...\n",
       "70       Kyle.Hawkins@vanderbilt.edu\n",
       "71           jordandias617@gmail.com\n",
       "72            tjpencarinha@gmail.com\n",
       "73                       Joey Grassi\n",
       "74          mbsnahsville@outlook.com\n",
       "\n",
       "[75 rows x 1 columns]"
      ]
     },
     "execution_count": 90,
     "metadata": {},
     "output_type": "execute_result"
    }
   ],
   "source": [
    "service_sheets = build('sheets','v4',credentials=creds)\n",
    "sheet = service_sheets.spreadsheets()\n",
    "\n",
    "sheet_range = '!A:Z'\n",
    "result = sheet.values().get(spreadsheetId=spreadsheet_id,range=sheet_range).execute()\n",
    "values = result.get('values',[])\n",
    "if not values:\n",
    "    print('no data found')\n",
    "\n",
    "df = pd.DataFrame(values[1:],columns=values[0][0:-1])\n",
    "sheet_emails = df['Email Address']\n",
    "sheet_emails"
   ]
  },
  {
   "cell_type": "code",
   "execution_count": 92,
   "id": "30f0d7fc-012b-4758-b33b-42e3cc20582d",
   "metadata": {},
   "outputs": [
    {
     "name": "stdout",
     "output_type": "stream",
     "text": [
      "Initial DataFrame:\n",
      "                      Email Address\n",
      "0                 mmarcano@fisk.edu\n",
      "1     edgar.carrillo@vanderbilt.edu\n",
      "2       ryan.nowicki@vanderbilt.edu\n",
      "3      mary.e.kaldor@vanderbilt.edu\n",
      "4  Patricia.a.ward.3@vanderbilt.edu\n",
      "5       Kyle.Hawkins@vanderbilt.edu\n",
      "6            jordanias617@gmail.com\n",
      "7            tjpencarinha@gmail.com\n",
      "8                       Joey Grassi\n",
      "9          mbsnahsville@outlook.com\n",
      "\n",
      "Updated DataFrame:\n",
      "                       Email Address\n",
      "0                  mmarcano@fisk.edu\n",
      "1      edgar.carrillo@vanderbilt.edu\n",
      "2        ryan.nowicki@vanderbilt.edu\n",
      "3       mary.e.kaldor@vanderbilt.edu\n",
      "4   Patricia.a.ward.3@vanderbilt.edu\n",
      "5        Kyle.Hawkins@vanderbilt.edu\n",
      "6             jordanias617@gmail.com\n",
      "7             tjpencarinha@gmail.com\n",
      "8                        Joey Grassi\n",
      "9           mbsnahsville@outlook.com\n",
      "10            new.email1@example.com\n",
      "11            new.email2@example.com\n",
      "12            new.email3@example.com\n"
     ]
    }
   ],
   "source": [
    "# Initial DataFrame with a single column\n",
    "data = {\n",
    "    'Email Address': [\n",
    "        'mmarcano@fisk.edu', 'edgar.carrillo@vanderbilt.edu', 'ryan.nowicki@vanderbilt.edu',\n",
    "        'mary.e.kaldor@vanderbilt.edu', 'Patricia.a.ward.3@vanderbilt.edu', 'Kyle.Hawkins@vanderbilt.edu',\n",
    "        'jordanias617@gmail.com', 'tjpencarinha@gmail.com', 'Joey Grassi', 'mbsnahsville@outlook.com'\n",
    "    ]\n",
    "}\n",
    "df = pd.DataFrame(data)\n",
    "\n",
    "# Display initial DataFrame\n",
    "print(\"Initial DataFrame:\")\n",
    "print(df)\n",
    "\n",
    "# List of new email addresses to add\n",
    "new_emails = ['new.email1@example.com', 'new.email2@example.com', 'new.email3@example.com']\n",
    "\n",
    "# Convert the new email addresses list to a DataFrame\n",
    "new_df = pd.DataFrame({'Email Address': new_emails})\n",
    "\n",
    "# Concatenate the new DataFrame with the existing DataFrame\n",
    "df = pd.concat([df, new_df], ignore_index=True)\n",
    "\n",
    "# Display updated DataFrame\n",
    "print(\"\\nUpdated DataFrame:\")\n",
    "print(df)"
   ]
  },
  {
   "cell_type": "markdown",
   "id": "6492bfd1-9d62-4231-bd9d-7a6a187dc4ad",
   "metadata": {},
   "source": [
    "### Merge both lists"
   ]
  },
  {
   "cell_type": "code",
   "execution_count": 117,
   "id": "1375881e-0672-4e4c-baf9-b393eff0a5e1",
   "metadata": {},
   "outputs": [],
   "source": [
    "gmail_df = pd.DataFrame({'Email Address':gmail_emails})\n",
    "new_email_df = pd.concat([gmail_df, sheet_emails],ignore_index=True)"
   ]
  },
  {
   "cell_type": "code",
   "execution_count": 118,
   "id": "c38b6c83-d7c1-471f-bf0f-6f0aed9f002b",
   "metadata": {},
   "outputs": [],
   "source": [
    "new_email_df.drop_duplicates(inplace=True)"
   ]
  },
  {
   "cell_type": "code",
   "execution_count": 122,
   "id": "f2d68097-37f3-4b07-ba0a-dd94e2a1c12b",
   "metadata": {},
   "outputs": [],
   "source": [
    "import numpy"
   ]
  },
  {
   "cell_type": "code",
   "execution_count": 119,
   "id": "d33e390a-21a6-4ebf-bde7-18fb178e85c5",
   "metadata": {},
   "outputs": [
    {
     "data": {
      "text/html": [
       "<div>\n",
       "<style scoped>\n",
       "    .dataframe tbody tr th:only-of-type {\n",
       "        vertical-align: middle;\n",
       "    }\n",
       "\n",
       "    .dataframe tbody tr th {\n",
       "        vertical-align: top;\n",
       "    }\n",
       "\n",
       "    .dataframe thead th {\n",
       "        text-align: right;\n",
       "    }\n",
       "</style>\n",
       "<table border=\"1\" class=\"dataframe\">\n",
       "  <thead>\n",
       "    <tr style=\"text-align: right;\">\n",
       "      <th></th>\n",
       "      <th>Email Address</th>\n",
       "    </tr>\n",
       "  </thead>\n",
       "  <tbody>\n",
       "    <tr>\n",
       "      <th>0</th>\n",
       "      <td>priabraham@gmail.com</td>\n",
       "    </tr>\n",
       "    <tr>\n",
       "      <th>1</th>\n",
       "      <td>lizziehinson96@gmail.com</td>\n",
       "    </tr>\n",
       "    <tr>\n",
       "      <th>2</th>\n",
       "      <td>ilija.medan@vanderbilt.edu</td>\n",
       "    </tr>\n",
       "    <tr>\n",
       "      <th>3</th>\n",
       "      <td>heathergc2k19@gmail.com</td>\n",
       "    </tr>\n",
       "    <tr>\n",
       "      <th>4</th>\n",
       "      <td>Cthomp28@gmail.com</td>\n",
       "    </tr>\n",
       "    <tr>\n",
       "      <th>...</th>\n",
       "      <td>...</td>\n",
       "    </tr>\n",
       "    <tr>\n",
       "      <th>115</th>\n",
       "      <td>savion.j.johnson@vanderbilt.edu</td>\n",
       "    </tr>\n",
       "    <tr>\n",
       "      <th>121</th>\n",
       "      <td>tmwellington2@gmail.com</td>\n",
       "    </tr>\n",
       "    <tr>\n",
       "      <th>123</th>\n",
       "      <td>ccoca@fisk.edu</td>\n",
       "    </tr>\n",
       "    <tr>\n",
       "      <th>133</th>\n",
       "      <td>lauren.h.kasper@vanderbilt.edu</td>\n",
       "    </tr>\n",
       "    <tr>\n",
       "      <th>148</th>\n",
       "      <td>Joey Grassi</td>\n",
       "    </tr>\n",
       "  </tbody>\n",
       "</table>\n",
       "<p>90 rows × 1 columns</p>\n",
       "</div>"
      ],
      "text/plain": [
       "                       Email Address\n",
       "0               priabraham@gmail.com\n",
       "1           lizziehinson96@gmail.com\n",
       "2         ilija.medan@vanderbilt.edu\n",
       "3            heathergc2k19@gmail.com\n",
       "4                 Cthomp28@gmail.com\n",
       "..                               ...\n",
       "115  savion.j.johnson@vanderbilt.edu\n",
       "121          tmwellington2@gmail.com\n",
       "123                  ccoca@fisk.edu \n",
       "133   lauren.h.kasper@vanderbilt.edu\n",
       "148                      Joey Grassi\n",
       "\n",
       "[90 rows x 1 columns]"
      ]
     },
     "execution_count": 119,
     "metadata": {},
     "output_type": "execute_result"
    }
   ],
   "source": [
    "new_email_df"
   ]
  },
  {
   "cell_type": "code",
   "execution_count": 125,
   "id": "b905495e-3b23-4040-ab84-72d2c144f41f",
   "metadata": {},
   "outputs": [
    {
     "data": {
      "text/plain": [
       "array(['priabraham@gmail.com', 'lizziehinson96@gmail.com',\n",
       "       'ilija.medan@vanderbilt.edu', 'heathergc2k19@gmail.com',\n",
       "       'Cthomp28@gmail.com', 'selliott@fwpublishing.com',\n",
       "       'michael.z.reynolds@vanderbilt.edu',\n",
       "       'lauren.n.kasper@vanderbilt.edu', 'riyengar828@gmail.com',\n",
       "       'jennifer.l.james@vanderbilt.edu', 'alec.myszka@me.com',\n",
       "       'info@chefpaulette.net', 'roman.berens@vanderbilt.edu',\n",
       "       'beardeadsaint22@outlook.com', 'Kyle.Hawkins@vanderbilt.edu',\n",
       "       'a.rockafellar@vanderbilt.edu', 'margiedz@yahoo.com',\n",
       "       'Ashley.e.brammer@vanderbilt.edu', 'Ccoca@fisk.edu',\n",
       "       'Patricia.a.ward.3@vanderbilt.edu', 'Kelly.gravity@gmail.com',\n",
       "       'donald.pickert@VANDERBILT.EDU',\n",
       "       'coolspringsmoderndentistry@smilegeneration.com',\n",
       "       'mmarcano@fisk.edu', 'william.k.teets@vanderbilt.edu',\n",
       "       'jonathan.bird@vanderbilt.edu',\n",
       "       'alexandra.f.rockafellar@vanderbilt.edu', 'info@bsasnashville.com',\n",
       "       'thryan13@gmail.com', 'mattdoc@hotmail.com', 'pencekt@gmail.com',\n",
       "       'edgar.carrillo@vanderbilt.edu',\n",
       "       'christina.mcgahan@vanderbilt.edu', 'mary.e.kaldor@vanderbilt.edu',\n",
       "       'vaiby@hotmail.com', 'nicholas-tyler.howard@vanderbilt.edu',\n",
       "       'grimblw@vanderbilt.edu', 'carolyn.drake@vanderbilt.edu',\n",
       "       'ryan.nowicki@vanderbilt.edu', 'erika.taylor@vanderbilt.edu',\n",
       "       'dyerobservatory@vanderbilt.edu', 'sean@tentenstudios.com',\n",
       "       'kaitlyn.t.lane@vanderbilt.edu', 'reevesaf@gmail.com',\n",
       "       'miranda@jackalopebrew.com', 'mcdigman@gmail.com',\n",
       "       'randy@worklifebalancenashville.com', 'alupsasca@gmail.com',\n",
       "       'kHammer8280@aol.com', 'drew@newtonscannon.com',\n",
       "       'cate.enstrom@gmail.com', 'seaychloe@gmail.com',\n",
       "       'jordandias617@gmail.com', 'sfrederi7@gmail.com',\n",
       "       'dbjohnston31@gmail.com', 'nehemiah.j.williams@gmail.com',\n",
       "       'bchurlbut@gmail.com', 'bethcolf@gmail.com',\n",
       "       'connorparde@gmail.com', 'jeckelng@gmail.com', 'dpe00a@gmail.com',\n",
       "       'aaronkyehudson@gmail.com', 'abrahamdocs@gmail.com',\n",
       "       'apeschet@gmail.com', 'tmwellington@comcast.net',\n",
       "       'Edgarc.ec@gmail.com', 'sade.johnson@nashville.gov',\n",
       "       'donald.filer@yale.edu', 'warrickelaine@gmail.com',\n",
       "       'tjpencarinha@gmail.com', 'mbsnahsville@outlook.com',\n",
       "       'jgras330@gmail.com', 'aderdzinski@fisk.edu',\n",
       "       'eleonore@jackalopebrew.com', 'edgar.carrillo@vanderbilt.edu ',\n",
       "       'diyac.03@gmail.com', 'sade_johnson51@yahoo.com',\n",
       "       'Brian.Thomas.Garton@gmail.com', 'allie.j.whalen@gmail.com',\n",
       "       'jrportwood65@gmail.com', 'spacepiratecaptainjack@gmail.com',\n",
       "       'paul.hibbeler@gmail.com', 'm.shane.hutson@gmail.com',\n",
       "       'Giannamv@gmail.com', 'donald.pickert@vanderbilt.edu',\n",
       "       'savion.j.johnson@vanderbilt.edu', 'tmwellington2@gmail.com',\n",
       "       'ccoca@fisk.edu ', 'lauren.h.kasper@vanderbilt.edu', 'Joey Grassi'],\n",
       "      dtype=object)"
      ]
     },
     "execution_count": 125,
     "metadata": {},
     "output_type": "execute_result"
    }
   ],
   "source": [
    "np.concatenate(new_email_df.to_numpy())"
   ]
  },
  {
   "cell_type": "code",
   "execution_count": 107,
   "id": "41c948c0-cedc-4fc4-a594-9aa0de0586f4",
   "metadata": {},
   "outputs": [
    {
     "data": {
      "text/plain": [
       "pandas.core.frame.DataFrame"
      ]
     },
     "execution_count": 107,
     "metadata": {},
     "output_type": "execute_result"
    }
   ],
   "source": [
    "type(new_email_df)"
   ]
  },
  {
   "cell_type": "code",
   "execution_count": null,
   "id": "3095176b-f3b4-4398-8406-83c8c26bda0e",
   "metadata": {},
   "outputs": [],
   "source": []
  },
  {
   "cell_type": "code",
   "execution_count": 78,
   "id": "8a8830a7-bb35-4841-b2be-6a7b6284fef8",
   "metadata": {},
   "outputs": [
    {
     "data": {
      "text/plain": [
       "(75, 75, 150, 150)"
      ]
     },
     "execution_count": 78,
     "metadata": {},
     "output_type": "execute_result"
    }
   ],
   "source": [
    "all_emails = list(sheet_emails.values) + gmail_emails\n",
    "len(sheet_emails), len(gmail_emails), len(sheet_emails) + len(gmail_emails), len(all_emails)"
   ]
  },
  {
   "cell_type": "code",
   "execution_count": 79,
   "id": "3e1f1488-3822-4bf6-b295-804c6c8591e7",
   "metadata": {
    "scrolled": true
   },
   "outputs": [
    {
     "data": {
      "text/plain": [
       "'mmarcano@fisk.edu,edgar.carrillo@vanderbilt.edu ,ryan.nowicki@vanderbilt.edu,mary.e.kaldor@vanderbilt.edu,Patricia.a.ward.3@vanderbilt.edu,Ashley.e.brammer@vanderbilt.edu,ilija.medan@vanderbilt.edu,kaitlyn.t.lane@vanderbilt.edu,Cthomp28@gmail.com,dpe00a@gmail.com,Edgarc.ec@gmail.com,a.rockafellar@vanderbilt.edu,info@chefpaulette.net,diyac.03@gmail.com,sade_johnson51@yahoo.com,sade.johnson@nashville.gov,Brian.Thomas.Garton@gmail.com,allie.j.whalen@gmail.com,jrportwood65@gmail.com,spacepiratecaptainjack@gmail.com,paul.hibbeler@gmail.com,m.shane.hutson@gmail.com,Giannamv@gmail.com,warrickelaine@gmail.com,grimblw@vanderbilt.edu,Kelly.gravity@gmail.com,carolyn.drake@vanderbilt.edu,christina.mcgahan@vanderbilt.edu,erika.taylor@vanderbilt.edu,sfrederi7@gmail.com,reevesaf@gmail.com,mcdigman@gmail.com,kHammer8280@aol.com,cate.enstrom@gmail.com,pencekt@gmail.com,drew@newtonscannon.com,thryan13@gmail.com,dyerobservatory@vanderbilt.edu,donald.pickert@vanderbilt.edu,william.k.teets@vanderbilt.edu,savion.j.johnson@vanderbilt.edu,vaiby@hotmail.com,mattdoc@hotmail.com,abrahamdocs@gmail.com,info@bsasnashville.com,tmwellington@comcast.net,tmwellington2@gmail.com,jonathan.bird@vanderbilt.edu,ccoca@fisk.edu ,coolspringsmoderndentistry@smilegeneration.com,alupsasca@gmail.com,apeschet@gmail.com,heathergc2k19@gmail.com,bethcolf@gmail.com,selliott@fwpublishing.com,lizziehinson96@gmail.com,alec.myszka@me.com,alexandra.f.rockafellar@vanderbilt.edu,lauren.h.kasper@vanderbilt.edu,jennifer.l.james@vanderbilt.edu,bchurlbut@gmail.com,seaychloe@gmail.com,aderdzinski@fisk.edu,nicholas-tyler.howard@vanderbilt.edu,priabraham@gmail.com,margiedz@yahoo.com,connorparde@gmail.com,jeckelng@gmail.com,nehemiah.j.williams@gmail.com,roman.berens@vanderbilt.edu,Kyle.Hawkins@vanderbilt.edu,jordandias617@gmail.com,tjpencarinha@gmail.com,Joey Grassi,mbsnahsville@outlook.com,priabraham@gmail.com,lizziehinson96@gmail.com,ilija.medan@vanderbilt.edu,heathergc2k19@gmail.com,Cthomp28@gmail.com,selliott@fwpublishing.com,michael.z.reynolds@vanderbilt.edu,lauren.n.kasper@vanderbilt.edu,riyengar828@gmail.com,jennifer.l.james@vanderbilt.edu,alec.myszka@me.com,info@chefpaulette.net,roman.berens@vanderbilt.edu,beardeadsaint22@outlook.com,Kyle.Hawkins@vanderbilt.edu,a.rockafellar@vanderbilt.edu,margiedz@yahoo.com,Ashley.e.brammer@vanderbilt.edu,Ccoca@fisk.edu,Patricia.a.ward.3@vanderbilt.edu,Kelly.gravity@gmail.com,donald.pickert@VANDERBILT.EDU,coolspringsmoderndentistry@smilegeneration.com,mmarcano@fisk.edu,william.k.teets@vanderbilt.edu,jonathan.bird@vanderbilt.edu,alexandra.f.rockafellar@vanderbilt.edu,info@bsasnashville.com,thryan13@gmail.com,mattdoc@hotmail.com,pencekt@gmail.com,edgar.carrillo@vanderbilt.edu,info@bsasnashville.com,christina.mcgahan@vanderbilt.edu,mary.e.kaldor@vanderbilt.edu,vaiby@hotmail.com,nicholas-tyler.howard@vanderbilt.edu,grimblw@vanderbilt.edu,carolyn.drake@vanderbilt.edu,ryan.nowicki@vanderbilt.edu,erika.taylor@vanderbilt.edu,dyerobservatory@vanderbilt.edu,sean@tentenstudios.com,kaitlyn.t.lane@vanderbilt.edu,reevesaf@gmail.com,miranda@jackalopebrew.com,mcdigman@gmail.com,randy@worklifebalancenashville.com,alupsasca@gmail.com,kHammer8280@aol.com,drew@newtonscannon.com,cate.enstrom@gmail.com,seaychloe@gmail.com,jordandias617@gmail.com,sfrederi7@gmail.com,dbjohnston31@gmail.com,nehemiah.j.williams@gmail.com,bchurlbut@gmail.com,bethcolf@gmail.com,connorparde@gmail.com,jeckelng@gmail.com,dpe00a@gmail.com,aaronkyehudson@gmail.com,abrahamdocs@gmail.com,apeschet@gmail.com,tmwellington@comcast.net,Edgarc.ec@gmail.com,sade.johnson@nashville.gov,donald.filer@yale.edu,warrickelaine@gmail.com,tjpencarinha@gmail.com,mbsnahsville@outlook.com,jgras330@gmail.com,aderdzinski@fisk.edu,eleonore@jackalopebrew.com'"
      ]
     },
     "execution_count": 79,
     "metadata": {},
     "output_type": "execute_result"
    }
   ],
   "source": [
    "email_string = ','.join(all_emails)\n",
    "email_string"
   ]
  },
  {
   "cell_type": "markdown",
   "id": "d081bc56-6442-425a-a36c-65d1ba4669a1",
   "metadata": {},
   "source": [
    "# EventBrite links"
   ]
  },
  {
   "cell_type": "code",
   "execution_count": 131,
   "id": "0f0c16de-95ee-411a-aea4-15fedda1d487",
   "metadata": {},
   "outputs": [],
   "source": [
    "import requests\n",
    "import json"
   ]
  },
  {
   "cell_type": "code",
   "execution_count": 134,
   "id": "65e33e7e-a453-4d0e-9d88-260cc2d92d37",
   "metadata": {},
   "outputs": [],
   "source": [
    "API_EVENTBRITE_TOKEN = None\n",
    "\n",
    "# Eventbrite API endpoint to get user's events\n",
    "EVENTS_URL = 'https://www.eventbriteapi.com/v3/users/me/events/'\n",
    "\n",
    "# Function to get all events\n",
    "def get_eventbrite_events(api_token):\n",
    "    headers = {\n",
    "        'Authorization': f'Bearer {api_token}',\n",
    "    }\n",
    "\n",
    "    response = requests.get(EVENTS_URL, headers=headers)\n",
    "    \n",
    "    if response.status_code != 200:\n",
    "        raise Exception(f\"Error fetching events: {response.status_code}\")\n",
    "\n",
    "    events_data = response.json()\n",
    "    events = events_data.get('events', [])\n",
    "\n",
    "    return events\n",
    "\n",
    "# Function to extract event names and hyperlinks\n",
    "def extract_event_details(events):\n",
    "    event_details = []\n",
    "    \n",
    "    for event in events:\n",
    "        name = event['name']['text']\n",
    "        url = event['url']\n",
    "        event_details.append({'name': name, 'url': url})\n",
    "    \n",
    "    return event_details\n"
   ]
  },
  {
   "cell_type": "code",
   "execution_count": 135,
   "id": "79e8585d-4670-4cd3-9167-a29ddcf38a55",
   "metadata": {},
   "outputs": [
    {
     "ename": "Exception",
     "evalue": "Error fetching events: 404",
     "output_type": "error",
     "traceback": [
      "\u001b[0;31m---------------------------------------------------------------------------\u001b[0m",
      "\u001b[0;31mException\u001b[0m                                 Traceback (most recent call last)",
      "Cell \u001b[0;32mIn[135], line 1\u001b[0m\n\u001b[0;32m----> 1\u001b[0m events \u001b[38;5;241m=\u001b[39m get_eventbrite_events(API_EVENTBRITE_TOKEN)\n\u001b[1;32m      2\u001b[0m event_details \u001b[38;5;241m=\u001b[39m extract_event_details(events)\n",
      "Cell \u001b[0;32mIn[134], line 15\u001b[0m, in \u001b[0;36mget_eventbrite_events\u001b[0;34m(api_token)\u001b[0m\n\u001b[1;32m     12\u001b[0m response \u001b[38;5;241m=\u001b[39m requests\u001b[38;5;241m.\u001b[39mget(EVENTS_URL, headers\u001b[38;5;241m=\u001b[39mheaders)\n\u001b[1;32m     14\u001b[0m \u001b[38;5;28;01mif\u001b[39;00m response\u001b[38;5;241m.\u001b[39mstatus_code \u001b[38;5;241m!=\u001b[39m \u001b[38;5;241m200\u001b[39m:\n\u001b[0;32m---> 15\u001b[0m     \u001b[38;5;28;01mraise\u001b[39;00m \u001b[38;5;167;01mException\u001b[39;00m(\u001b[38;5;124mf\u001b[39m\u001b[38;5;124m\"\u001b[39m\u001b[38;5;124mError fetching events: \u001b[39m\u001b[38;5;132;01m{\u001b[39;00mresponse\u001b[38;5;241m.\u001b[39mstatus_code\u001b[38;5;132;01m}\u001b[39;00m\u001b[38;5;124m\"\u001b[39m)\n\u001b[1;32m     17\u001b[0m events_data \u001b[38;5;241m=\u001b[39m response\u001b[38;5;241m.\u001b[39mjson()\n\u001b[1;32m     18\u001b[0m events \u001b[38;5;241m=\u001b[39m events_data\u001b[38;5;241m.\u001b[39mget(\u001b[38;5;124m'\u001b[39m\u001b[38;5;124mevents\u001b[39m\u001b[38;5;124m'\u001b[39m, [])\n",
      "\u001b[0;31mException\u001b[0m: Error fetching events: 404"
     ]
    }
   ],
   "source": [
    "events = get_eventbrite_events(API_EVENTBRITE_TOKEN)\n",
    "event_details = extract_event_details(events)"
   ]
  },
  {
   "cell_type": "code",
   "execution_count": null,
   "id": "df1f9b14-0569-4144-9af1-fed56fc5e7d4",
   "metadata": {},
   "outputs": [],
   "source": []
  }
 ],
 "metadata": {
  "kernelspec": {
   "display_name": "Python 3 (ipykernel)",
   "language": "python",
   "name": "python3"
  },
  "language_info": {
   "codemirror_mode": {
    "name": "ipython",
    "version": 3
   },
   "file_extension": ".py",
   "mimetype": "text/x-python",
   "name": "python",
   "nbconvert_exporter": "python",
   "pygments_lexer": "ipython3",
   "version": "3.12.3"
  }
 },
 "nbformat": 4,
 "nbformat_minor": 5
}
