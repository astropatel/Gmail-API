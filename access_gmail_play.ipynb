{
 "cells": [
  {
   "cell_type": "code",
   "execution_count": 11,
   "id": "0a72d026-714f-43e2-a436-7b363e7f3ba4",
   "metadata": {},
   "outputs": [],
   "source": [
    "import os.path\n",
    "import base64\n",
    "from email.mime.multipart import MIMEMultipart\n",
    "from email.mime.text import MIMEText\n",
    "from google.auth.transport.requests import Request\n",
    "from google.oauth2.credentials import Credentials\n",
    "from google_auth_oauthlib.flow import InstalledAppFlow\n",
    "from googleapiclient.discovery import build\n",
    "from email.message import EmailMessage\n",
    "from email import encoders\n",
    "\n",
    "import access_gmail as ag"
   ]
  },
  {
   "cell_type": "code",
   "execution_count": 2,
   "id": "a48e97d4-51c4-443a-afac-feb1debef749",
   "metadata": {},
   "outputs": [
    {
     "data": {
      "text/plain": [
       "<module 'access_gmail' from '/Users/darthpatel/Library/CloudStorage/Dropbox/FunProjects/AoTNashville/access_gmail.py'>"
      ]
     },
     "execution_count": 2,
     "metadata": {},
     "output_type": "execute_result"
    }
   ],
   "source": [
    "from importlib import reload\n",
    "reload(ag)"
   ]
  },
  {
   "cell_type": "code",
   "execution_count": 3,
   "id": "8abfdd1e-7645-4817-9721-6ccd79768502",
   "metadata": {},
   "outputs": [
    {
     "data": {
      "text/plain": [
       "['https://www.googleapis.com/auth/spreadsheets',\n",
       " 'https://www.googleapis.com/auth/drive',\n",
       " 'https://www.googleapis.com/auth/gmail.send',\n",
       " 'https://www.googleapis.com/auth/drive.file',\n",
       " 'https://www.googleapis.com/auth/gmail.labels',\n",
       " 'https://www.googleapis.com/auth/gmail.compose',\n",
       " 'https://www.googleapis.com/auth/gmail.modify',\n",
       " 'https://www.googleapis.com/auth/drive.activity',\n",
       " 'https://mail.google.com/',\n",
       " 'https://www.googleapis.com/auth/contacts.readonly',\n",
       " 'https://www.googleapis.com/auth/drive.metadata.readonly',\n",
       " 'https://www.googleapis.com/auth/gmail.addons.current.action.compose',\n",
       " 'https://www.googleapis.com/auth/gmail.addons.current.message.action']"
      ]
     },
     "execution_count": 3,
     "metadata": {},
     "output_type": "execute_result"
    }
   ],
   "source": [
    "SCOPES = ag.SCOPES\n",
    "SCOPES"
   ]
  },
  {
   "cell_type": "code",
   "execution_count": 4,
   "id": "f7488118-7ab5-4a93-9423-45050912862c",
   "metadata": {},
   "outputs": [],
   "source": [
    "creds = ag.create_token()\n",
    "# Initialize the Gmail API\n",
    "service = build('gmail', 'v1', credentials=creds)\n",
    "people_service = build('people', 'v1', credentials=creds)"
   ]
  },
  {
   "cell_type": "code",
   "execution_count": 5,
   "id": "a019839b-49ed-4f06-bae1-fde5dbf7b248",
   "metadata": {},
   "outputs": [
    {
     "ename": "HttpError",
     "evalue": "<HttpError 400 when requesting https://gmail.googleapis.com/gmail/v1/users/me/messages?labelIds=AoT+Subscribed&alt=json returned \"Invalid label: AoT Subscribed\". Details: \"[{'message': 'Invalid label: AoT Subscribed', 'domain': 'global', 'reason': 'invalidArgument'}]\">",
     "output_type": "error",
     "traceback": [
      "\u001b[0;31m---------------------------------------------------------------------------\u001b[0m",
      "\u001b[0;31mHttpError\u001b[0m                                 Traceback (most recent call last)",
      "Cell \u001b[0;32mIn[5], line 8\u001b[0m\n\u001b[1;32m      2\u001b[0m label_id \u001b[38;5;241m=\u001b[39m \u001b[38;5;124m'\u001b[39m\u001b[38;5;124mAoT Subscribed\u001b[39m\u001b[38;5;124m'\u001b[39m\n\u001b[1;32m      4\u001b[0m \u001b[38;5;66;03m# Get emails with the specified label\u001b[39;00m\n\u001b[1;32m      5\u001b[0m \n\u001b[1;32m      6\u001b[0m \u001b[38;5;66;03m# emails = ag.get_emails_by_label(service, label_id)\u001b[39;00m\n\u001b[1;32m      7\u001b[0m \u001b[38;5;66;03m############## - get emails by label start\u001b[39;00m\n\u001b[0;32m----> 8\u001b[0m results \u001b[38;5;241m=\u001b[39m service\u001b[38;5;241m.\u001b[39musers()\u001b[38;5;241m.\u001b[39mmessages()\u001b[38;5;241m.\u001b[39mlist(userId\u001b[38;5;241m=\u001b[39m\u001b[38;5;124m'\u001b[39m\u001b[38;5;124mme\u001b[39m\u001b[38;5;124m'\u001b[39m, labelIds\u001b[38;5;241m=\u001b[39m[label_id])\u001b[38;5;241m.\u001b[39mexecute()\n\u001b[1;32m      9\u001b[0m messages \u001b[38;5;241m=\u001b[39m results\u001b[38;5;241m.\u001b[39mget(\u001b[38;5;124m'\u001b[39m\u001b[38;5;124mmessages\u001b[39m\u001b[38;5;124m'\u001b[39m, [])\n\u001b[1;32m     10\u001b[0m emails \u001b[38;5;241m=\u001b[39m []\n",
      "File \u001b[0;32m~/miniconda3/envs/aot/lib/python3.12/site-packages/googleapiclient/_helpers.py:130\u001b[0m, in \u001b[0;36mpositional.<locals>.positional_decorator.<locals>.positional_wrapper\u001b[0;34m(*args, **kwargs)\u001b[0m\n\u001b[1;32m    128\u001b[0m     \u001b[38;5;28;01melif\u001b[39;00m positional_parameters_enforcement \u001b[38;5;241m==\u001b[39m POSITIONAL_WARNING:\n\u001b[1;32m    129\u001b[0m         logger\u001b[38;5;241m.\u001b[39mwarning(message)\n\u001b[0;32m--> 130\u001b[0m \u001b[38;5;28;01mreturn\u001b[39;00m wrapped(\u001b[38;5;241m*\u001b[39margs, \u001b[38;5;241m*\u001b[39m\u001b[38;5;241m*\u001b[39mkwargs)\n",
      "File \u001b[0;32m~/miniconda3/envs/aot/lib/python3.12/site-packages/googleapiclient/http.py:938\u001b[0m, in \u001b[0;36mHttpRequest.execute\u001b[0;34m(self, http, num_retries)\u001b[0m\n\u001b[1;32m    936\u001b[0m     callback(resp)\n\u001b[1;32m    937\u001b[0m \u001b[38;5;28;01mif\u001b[39;00m resp\u001b[38;5;241m.\u001b[39mstatus \u001b[38;5;241m>\u001b[39m\u001b[38;5;241m=\u001b[39m \u001b[38;5;241m300\u001b[39m:\n\u001b[0;32m--> 938\u001b[0m     \u001b[38;5;28;01mraise\u001b[39;00m HttpError(resp, content, uri\u001b[38;5;241m=\u001b[39m\u001b[38;5;28mself\u001b[39m\u001b[38;5;241m.\u001b[39muri)\n\u001b[1;32m    939\u001b[0m \u001b[38;5;28;01mreturn\u001b[39;00m \u001b[38;5;28mself\u001b[39m\u001b[38;5;241m.\u001b[39mpostproc(resp, content)\n",
      "\u001b[0;31mHttpError\u001b[0m: <HttpError 400 when requesting https://gmail.googleapis.com/gmail/v1/users/me/messages?labelIds=AoT+Subscribed&alt=json returned \"Invalid label: AoT Subscribed\". Details: \"[{'message': 'Invalid label: AoT Subscribed', 'domain': 'global', 'reason': 'invalidArgument'}]\">"
     ]
    }
   ],
   "source": [
    "\n",
    "\n",
    "# Define the label you want to filter by (replace 'YOUR_LABEL_ID' with your actual label ID)\n",
    "label_id = 'AoT Subscribed'\n",
    "\n",
    "# Get emails with the specified label\n",
    "\n",
    "# emails = ag.get_emails_by_label(service, label_id)\n",
    "############## - get emails by label start\n",
    "results = service.users().messages().list(userId='me', labelIds=[label_id]).execute()\n",
    "messages = results.get('messages', [])\n",
    "emails = []\n",
    "for message in messages:\n",
    "    msg = service.users().messages().get(userID='me',id=message['id']).execute()\n",
    "    email_data = {\n",
    "        'id': msg['id'],\n",
    "        'snippet': msg['snippet'],\n",
    "        'payload': msg['payload']\n",
    "    }\n",
    "    emails.append(email_data)\n",
    "\n",
    "\n",
    "\n",
    "##############\n",
    "\n",
    "print(f'Found {len(emails)} emails with label {label_id}')\n",
    "for email in emails:\n",
    "    print(f'Email ID: {email[\"id\"]}, Snippet: {email[\"snippet\"]}')"
   ]
  },
  {
   "cell_type": "code",
   "execution_count": null,
   "id": "1557f51b-1231-43ce-9036-c129d3f77517",
   "metadata": {},
   "outputs": [],
   "source": [
    "contacts = ag.get_contacts(people_service)"
   ]
  },
  {
   "cell_type": "code",
   "execution_count": null,
   "id": "15d04e2f-22b9-46f9-85f6-c13fe294b639",
   "metadata": {},
   "outputs": [],
   "source": [
    "contacts"
   ]
  },
  {
   "cell_type": "code",
   "execution_count": null,
   "id": "5c698ccb-9106-44ef-ba8c-53ae64114ae0",
   "metadata": {},
   "outputs": [],
   "source": [
    "sender = 'aotnahsville@gmail.com'\n",
    "subject = 'test'\n",
    "message_text = 'Wassssup'\n",
    "\n",
    "message = MIMEMultipart()\n",
    "message['to'] = 'anakha.1@gmail.com'\n",
    "message['from'] = sender\n",
    "message['subject'] = subject\n",
    "msg = MIMEText(message_text)\n",
    "message.attach(msg)\n",
    "raw = base64.urlsafe_b64encode(message.as_bytes()).decode()\n",
    "\n",
    "message_raw = {'raw':raw}\n",
    "\n",
    "ag.send_message(service,'me',message_raw)"
   ]
  },
  {
   "cell_type": "code",
   "execution_count": 55,
   "id": "4c159b8b-ba8c-4fc8-9efa-fed5b7b46264",
   "metadata": {},
   "outputs": [],
   "source": [
    "event_day = 'Thurs.'\n",
    "event_date = 'June 27th'\n",
    "event_edition = 'Summer Solstice Edition'\n",
    "location = 'Jackalope Brewing – Tap Room'\n",
    "speaker1_name = 'Dr. Chayan Chatterjee'\n",
    "speaker1_title = 'Listening to the Cosmic Orchestra Using A.I.'\n",
    "speaker2_name = 'Dr. Aaron Stemo'\n",
    "speaker2_title = 'Black Holes Don\\'t Suck'\n",
    "eventbrite_link = 'https://www.eventbrite.com'\n",
    "other_news = '' # additional messages\n",
    "\n",
    "\n",
    "html_content = f\"\"\"\n",
    "<!DOCTYPE html>\n",
    "<html>\n",
    "<head>\n",
    "    <title>Astronomy on Tap - {event_edition}</title>\n",
    "</head>\n",
    "<body>\n",
    "    <p>Dear AoT-ers!</p>\n",
    "    <p>We are pleased to announce that our <strong>{event_edition}</strong> event for\n",
    "    Astronomy on Tap will be held on <strong>{event_day} {event_date}</strong> at the <strong>{location}</strong>!</p>\n",
    "    <p>This event will feature 2 amazing speakers:</p>\n",
    "    <ul>\n",
    "        <li><strong>{speaker1_name}</strong><br><em>{speaker1_title}</em></li>\n",
    "        <li><strong>{speaker2_name}</strong><br><em>{speaker2_title}</em></li>\n",
    "    </ul>\n",
    "    <p>There will be trivia and more prizes after! So come on out after a long day of hard work in the middle of the week and relax while we bombard you with fun astro facts, beer, and prizes!</p>\n",
    "    <p>Make sure to <a href=\"{eventbrite_link}\" target=\"_blank\">RSVP for the free event at EventBrite</a>.</p>\n",
    "    <p>Please share to all and any who might be interested!</p>\n",
    "    <p><strong>Doors 7pm | Show 7:30 pm</strong></p>\n",
    "    <p><a href=\"https://www.google.com/maps/place/Jackalope+Brewing\" target=\"_blank\">Parking Instructions</a></p>\n",
    "    <p>{other_news}</p>\n",
    "    <p>If you wish to unsubscribe, reply to this email</p>\n",
    "    <p>Sincerely,\n",
    "    <br>AoT Nashville Team</p>\n",
    "<br>\n",
    "<div>\n",
    "    <div style=\"text-align:center; color:rgb(34,34,34)\">\n",
    "        <img data-aii=\"CiExR3hhR1hFMERrVm9idFl0QWRzUWZ3SGhSemtIU0dGZ0I\" width=\"96\" height=\"96\" \n",
    "             src=\"https://ci3.googleusercontent.com/mail-sig/AIorK4wR7MgccJn6Wi3LFcw0z4QsBsos9nAKfBYh9BxpNHb006gIZIZwnz_hNMZQFongZ6f5_uEHKaQ\" \n",
    "             data-os=\"https://lh3.googleusercontent.com/d/1GxaGXE0DkVobtYtAdsQfwHhRzkHSGFgB\">\n",
    "        <br>\n",
    "    </div>\n",
    "    <div style=\"text-align:center; color:rgb(34,34,34)\">\n",
    "        Astronomy on Tap - Nashville\n",
    "    </div>\n",
    "    <div style=\"text-align:center; color:rgb(34,34,34)\">\n",
    "        <b>\n",
    "            <a href=\"https://www.instagram.com/aotnashville/\" style=\"color:rgb(17,85,204)\" target=\"_blank\">Instagram</a>&nbsp;|&nbsp;\n",
    "            <a href=\"https://www.facebook.com/aotnashville\" target=\"_blank\">Facebook</a>\n",
    "        </b>\n",
    "    </div>\n",
    "</div>\n",
    "    \n",
    "</body>\n",
    "</html>\n",
    "\"\"\"\n"
   ]
  },
  {
   "cell_type": "code",
   "execution_count": 56,
   "id": "6f7f83ac-bf64-4a64-bb0b-af02dad16f06",
   "metadata": {},
   "outputs": [
    {
     "data": {
      "text/plain": [
       "'\\n<!DOCTYPE html>\\n<html>\\n<head>\\n    <title>Astronomy on Tap - Summer Solstice Edition</title>\\n</head>\\n<body>\\n    <p>Dear AoT-ers!</p>\\n    <p>We are pleased to announce that our <strong>Summer Solstice Edition</strong> event for\\n    Astronomy on Tap will be held on <strong>Thurs. June 27th</strong> at the <strong>Jackalope Brewing – Tap Room</strong>!</p>\\n    <p>This event will feature 2 amazing speakers:</p>\\n    <ul>\\n        <li><strong>Dr. Chayan Chatterjee</strong><br><em>Listening to the Cosmic Orchestra Using A.I.</em></li>\\n        <li><strong>Dr. Aaron Stemo</strong><br><em>Black Holes Don\\'t Suck</em></li>\\n    </ul>\\n    <p>There will be trivia and more prizes after! So come on out after a long day of hard work in the middle of the week and relax while we bombard you with fun astro facts, beer, and prizes!</p>\\n    <p>Make sure to <a href=\"https://www.eventbrite.com\" target=\"_blank\">RSVP for the free event at EventBrite</a>.</p>\\n    <p>Please share to all and any who might be interested!</p>\\n    <p><strong>Doors 7pm | Show 7:30 pm</strong></p>\\n    <p><a href=\"https://www.google.com/maps/place/Jackalope+Brewing\" target=\"_blank\">Parking Instructions</a></p>\\n    <p></p>\\n    <p>If you wish to unsubscribe, reply to this email</p>\\n    <p>Sincerely,\\n    <br>AoT Nashville Team</p>\\n<br>\\n<div>\\n    <div style=\"text-align:center; color:rgb(34,34,34)\">\\n        <img data-aii=\"CiExR3hhR1hFMERrVm9idFl0QWRzUWZ3SGhSemtIU0dGZ0I\" width=\"96\" height=\"96\" \\n             src=\"https://ci3.googleusercontent.com/mail-sig/AIorK4wR7MgccJn6Wi3LFcw0z4QsBsos9nAKfBYh9BxpNHb006gIZIZwnz_hNMZQFongZ6f5_uEHKaQ\" \\n             data-os=\"https://lh3.googleusercontent.com/d/1GxaGXE0DkVobtYtAdsQfwHhRzkHSGFgB\">\\n        <br>\\n    </div>\\n    <div style=\"text-align:center; color:rgb(34,34,34)\">\\n        Astronomy on Tap - Nashville\\n    </div>\\n    <div style=\"text-align:center; color:rgb(34,34,34)\">\\n        <b>\\n            <a href=\"https://www.instagram.com/aotnashville/\" style=\"color:rgb(17,85,204)\" target=\"_blank\">Instagram</a>&nbsp;|&nbsp;\\n            <a href=\"https://www.facebook.com/aotnashville\" target=\"_blank\">Facebook</a>\\n        </b>\\n    </div>\\n</div>\\n    \\n</body>\\n</html>\\n'"
      ]
     },
     "execution_count": 56,
     "metadata": {},
     "output_type": "execute_result"
    }
   ],
   "source": [
    "html_content"
   ]
  },
  {
   "cell_type": "code",
   "execution_count": 52,
   "id": "a6fe45ce-a11a-4952-a0df-43eacbb244eb",
   "metadata": {},
   "outputs": [],
   "source": [
    "event_day = 'THURS.'\n",
    "event_month = 'June'\n",
    "event_date = '27th'\n",
    "event_edition = 'Summer Solstice Edition'\n",
    "location = 'Jackalope Brewing – Tap Room'\n",
    "speaker1_name = 'Dr. Chayan Chatterjee'\n",
    "speaker1_title = 'Listening to the Cosmic Orchestra Using A.I.'\n",
    "speaker2_name = 'Dr. Aaron Stemo'\n",
    "speaker2_title = 'Black Holes Don\\'t Suck'\n",
    "eventbrite_link = 'https://www.eventbrite.com'\n",
    "other_news = ''  # additional messages\n",
    "\n",
    "html_content2 = f\"\"\"\n",
    "<!DOCTYPE html>\n",
    "<html>\n",
    "<head>\n",
    "    <title>Astronomy on Tap - {event_edition}</title>\n",
    "</head>\n",
    "<body>\n",
    "    <p>Dear AoT-ers!</p>\n",
    "    <p>We are pleased to announce that our <strong>{event_edition}</strong> event for\n",
    "    Astronomy on Tap will be held on <strong>{event_day} {event_month} {event_date}</strong> at the <strong>{location}</strong>!</p>\n",
    "    <p>This event will feature 2 amazing speakers:</p>\n",
    "    <ul>\n",
    "        <li><strong>{speaker1_name}</strong><br><em>{speaker1_title}</em></li>\n",
    "        <li><strong>{speaker2_name}</strong><br><em>{speaker2_title}</em></li>\n",
    "    </ul>\n",
    "    <p>There will be trivia and more prizes after! So come on out after a long day of hard work in the middle of the week and relax while we bombard you with fun astro facts, beer, and prizes!</p>\n",
    "    <p>Make sure to <a href=\"{eventbrite_link}\" target=\"_blank\">RSVP for the free event at EventBrite</a>.</p>\n",
    "    <p>Please share to all and any who might be interested!</p>\n",
    "    <p><strong>Doors 7pm | Show 7:30 pm</strong></p>\n",
    "    <p><a href=\"https://www.google.com/maps/place/Jackalope+Brewing\" target=\"_blank\">Parking Instructions</a></p>\n",
    "    <p>{other_news}</p>\n",
    "    <p>If you wish to unsubscribe, reply to this email</p>\n",
    "    <p>Sincerely,\n",
    "    <br>AoT Nashville Team</p>\n",
    "<br>\n",
    "<div>\n",
    "    <div style=\"text-align:center; color:rgb(34,34,34)\">\n",
    "        <img data-aii=\"CiExR3hhR1hFMERrVm9idFl0QWRzUWZ3SGhSemtIU0dGZ0I\" width=\"96\" height=\"96\" \n",
    "             src=\"https://ci3.googleusercontent.com/mail-sig/AIorK4wR7MgccJn6Wi3LFcw0z4QsBsos9nAKfBYh9BxpNHb006gIZIZwnz_hNMZQFongZ6f5_uEHKaQ\" \n",
    "             data-os=\"https://lh3.googleusercontent.com/d/1GxaGXE0DkVobtYtAdsQfwHhRzkHSGFgB\">\n",
    "        <br>\n",
    "    </div>\n",
    "    <div style=\"text-align:center; color:rgb(34,34,34)\">\n",
    "        Astronomy on Tap - Nashville\n",
    "    </div>\n",
    "    <div style=\"text-align:center; color:rgb(34,34,34)\">\n",
    "        <b>\n",
    "            <a href=\"https://www.instagram.com/aotnashville/\" style=\"color:rgb(17,85,204)\" target=\"_blank\">Instagram</a>&nbsp;|&nbsp;\n",
    "            <a href=\"https://www.facebook.com/aotnashville\" target=\"_blank\">Facebook</a>\n",
    "        </b>\n",
    "    </div>\n",
    "</div>\n",
    "\n",
    "</body>\n",
    "</html>\n",
    "\"\"\""
   ]
  },
  {
   "cell_type": "code",
   "execution_count": 53,
   "id": "ce5e91db-825e-4490-bb8f-4858cf7401c5",
   "metadata": {},
   "outputs": [
    {
     "data": {
      "text/plain": [
       "'\\n<!DOCTYPE html>\\n<html>\\n<head>\\n    <title>Astronomy on Tap - Summer Solstice Edition</title>\\n</head>\\n<body>\\n    <p>Dear AoT-ers!</p>\\n    <p>We are pleased to announce that our <strong>Summer Solstice Edition</strong> event for\\n    Astronomy on Tap will be held on <strong>THURS. June 27th</strong> at the <strong>Jackalope Brewing – Tap Room</strong>!</p>\\n    <p>This event will feature 2 amazing speakers:</p>\\n    <ul>\\n        <li><strong>Dr. Chayan Chatterjee</strong><br><em>Listening to the Cosmic Orchestra Using A.I.</em></li>\\n        <li><strong>Dr. Aaron Stemo</strong><br><em>Black Holes Don\\'t Suck</em></li>\\n    </ul>\\n    <p>There will be trivia and more prizes after! So come on out after a long day of hard work in the middle of the week and relax while we bombard you with fun astro facts, beer, and prizes!</p>\\n    <p>Make sure to <a href=\"https://www.eventbrite.com\" target=\"_blank\">RSVP for the free event at EventBrite</a>.</p>\\n    <p>Please share to all and any who might be interested!</p>\\n    <p><strong>Doors 7pm | Show 7:30 pm</strong></p>\\n    <p><a href=\"https://www.google.com/maps/place/Jackalope+Brewing\" target=\"_blank\">Parking Instructions</a></p>\\n    <p></p>\\n    <p>If you wish to unsubscribe, reply to this email</p>\\n    <p>Sincerely,\\n    <br>AoT Nashville Team</p>\\n<br>\\n<div>\\n    <div style=\"text-align:center; color:rgb(34,34,34)\">\\n        <img data-aii=\"CiExR3hhR1hFMERrVm9idFl0QWRzUWZ3SGhSemtIU0dGZ0I\" width=\"96\" height=\"96\" \\n             src=\"https://ci3.googleusercontent.com/mail-sig/AIorK4wR7MgccJn6Wi3LFcw0z4QsBsos9nAKfBYh9BxpNHb006gIZIZwnz_hNMZQFongZ6f5_uEHKaQ\" \\n             data-os=\"https://lh3.googleusercontent.com/d/1GxaGXE0DkVobtYtAdsQfwHhRzkHSGFgB\">\\n        <br>\\n    </div>\\n    <div style=\"text-align:center; color:rgb(34,34,34)\">\\n        Astronomy on Tap - Nashville\\n    </div>\\n    <div style=\"text-align:center; color:rgb(34,34,34)\">\\n        <b>\\n            <a href=\"https://www.instagram.com/aotnashville/\" style=\"color:rgb(17,85,204)\" target=\"_blank\">Instagram</a>&nbsp;|&nbsp;\\n            <a href=\"https://www.facebook.com/aotnashville\" target=\"_blank\">Facebook</a>\\n        </b>\\n    </div>\\n</div>\\n\\n</body>\\n</html>\\n'"
      ]
     },
     "execution_count": 53,
     "metadata": {},
     "output_type": "execute_result"
    }
   ],
   "source": [
    "html_content"
   ]
  },
  {
   "cell_type": "code",
   "execution_count": 6,
   "id": "671c4a38-d0b6-4ddf-98f1-592a854757a9",
   "metadata": {},
   "outputs": [],
   "source": [
    "sender = 'aotnahsville@gmail.com'\n",
    "subject = '[Astro on Tap] -- blah blah'\n",
    "message_text = html_content"
   ]
  },
  {
   "cell_type": "code",
   "execution_count": null,
   "id": "ab8f7ea1-f69d-4ae5-b2b9-85c56666a13c",
   "metadata": {},
   "outputs": [],
   "source": [
    "message = MIMEMultipart()\n",
    "message['to'] = 'anakha.1@gmail.com'\n",
    "message['from'] = sender\n",
    "message['subject'] = subject\n",
    "msg = MIMEText(message_text)\n",
    "message.attach(msg)\n",
    "raw = base64.urlsafe_b64encode(message.as_bytes()).decode()"
   ]
  },
  {
   "cell_type": "code",
   "execution_count": null,
   "id": "725d6cb8-f9a8-41c9-9d0a-3e062393022f",
   "metadata": {},
   "outputs": [],
   "source": [
    "message_raw = {'raw':raw}\n",
    "ag.send_message(service,'me',message_raw)"
   ]
  },
  {
   "cell_type": "code",
   "execution_count": 7,
   "id": "1b8f9dbb-e951-4e0c-a619-b663173f170b",
   "metadata": {},
   "outputs": [],
   "source": [
    "from email.mime.multipart import MIMEMultipart\n",
    "from email.mime.text import MIMEText\n",
    "from email.mime.base import MIMEBase\n",
    "from googleapiclient.http import MediaIoBaseDownload"
   ]
  },
  {
   "cell_type": "code",
   "execution_count": 11,
   "id": "b213e120-92ef-4718-83c6-b97059a8ed61",
   "metadata": {},
   "outputs": [],
   "source": [
    "message = EmailMessage()\n",
    "\n",
    "message.set_content(\"This is automated draft mail\")\n",
    "\n",
    "message[\"To\"] = \"anakha.1@gmail.com\"\n",
    "message[\"From\"] = sender\n",
    "message[\"Subject\"] = \"Automated draft\"\n",
    "\n",
    "# encoded message\n",
    "encoded_message = base64.urlsafe_b64encode(message.as_bytes()).decode()\n",
    "\n",
    "create_message = {\"message\": {\"raw\": encoded_message}}\n",
    "# pylint: disable=E1101\n",
    "draft = (\n",
    "    service.users()\n",
    "    .drafts()\n",
    "    .create(userId=\"me\", body=create_message)\n",
    "    .execute()\n",
    ")\n"
   ]
  },
  {
   "cell_type": "code",
   "execution_count": 13,
   "id": "26277e29-ef4a-46b8-8df3-dc535f20e48b",
   "metadata": {},
   "outputs": [
    {
     "name": "stdout",
     "output_type": "stream",
     "text": [
      "Draft id: r5379049820878808303\n",
      "Draft message: {'id': '19026c70d684a3be', 'threadId': '19026c70d684a3be', 'labelIds': ['DRAFT']}\n"
     ]
    }
   ],
   "source": [
    "print(f'Draft id: {draft[\"id\"]}\\nDraft message: {draft[\"message\"]}')\n"
   ]
  },
  {
   "cell_type": "code",
   "execution_count": 14,
   "id": "081abeae-1e5b-494b-80b7-56e925a5a574",
   "metadata": {},
   "outputs": [
    {
     "data": {
      "text/plain": [
       "{'id': '19026c70d684a3be',\n",
       " 'threadId': '19026c70d684a3be',\n",
       " 'labelIds': ['DRAFT']}"
      ]
     },
     "execution_count": 14,
     "metadata": {},
     "output_type": "execute_result"
    }
   ],
   "source": [
    "draft['message']"
   ]
  },
  {
   "cell_type": "code",
   "execution_count": 21,
   "id": "b7679ef4-5a23-4dbd-90a1-87539dd779be",
   "metadata": {},
   "outputs": [],
   "source": [
    "message = MIMEMultipart('alternative') #EmailMessage()\n",
    "#message.set_content(html_content)\n",
    "message['To'] = 'ripatel272@gmail.com,anakha.1@gmail.com,malvikag12@gmail.com'\n",
    "message['From'] = sender\n",
    "message['Subject'] = 'Test'\n",
    "\n",
    "msg = MIMEText(html_content,'html')\n",
    "message.attach(msg)\n",
    "encoded_message = base64.urlsafe_b64encode(message.as_bytes()).decode()\n",
    "create_message = {'raw':encoded_message}\n",
    "send_message = service.users().messages().send(userId=\"me\", body=create_message).execute()"
   ]
  },
  {
   "cell_type": "markdown",
   "id": "c6401f13-12d5-47e7-b9c1-9652ca6b27c8",
   "metadata": {},
   "source": [
    "## add attachment google drive local to email message"
   ]
  },
  {
   "cell_type": "code",
   "execution_count": 57,
   "id": "fd0cdf41-5b15-4ab9-ab46-5c60bca8dcd0",
   "metadata": {},
   "outputs": [
    {
     "data": {
      "text/plain": [
       "['/Users/darthpatel/Library/CloudStorage/GoogleDrive-aotnashville@gmail.com/My Drive/Event_flyers/AoT_June2024.pdf',\n",
       " '/Users/darthpatel/Library/CloudStorage/GoogleDrive-aotnashville@gmail.com/My Drive/Event_flyers/AoT_June2024_Insta.png']"
      ]
     },
     "execution_count": 57,
     "metadata": {},
     "output_type": "execute_result"
    }
   ],
   "source": [
    "import glob\n",
    "file_path = '/Users/darthpatel/Library/CloudStorage/GoogleDrive-aotnashville@gmail.com/My Drive/Event_flyers/'\n",
    "# file_path = '/Users/darthpatel/Downloads/'\n",
    "files_2_attach = glob.glob(file_path + '*June*')\n",
    "files_2_attach"
   ]
  },
  {
   "cell_type": "code",
   "execution_count": 58,
   "id": "dc818d61-7d45-470a-84c0-8b7751026fe6",
   "metadata": {},
   "outputs": [],
   "source": [
    "message = MIMEMultipart('resumable') #EmailMessage()\n",
    "#message.set_content(html_content)\n",
    "message['To'] = 'ripatel272@gmail.com,anakha.1@gmail.com'#,malvikag12@gmail.com'\n",
    "message['From'] = sender\n",
    "message['Subject'] = 'Test'\n",
    "message['bcc'] = 'ripatel272@gmail.com, anakha.1@gmail.com'\n",
    "msg = MIMEText(html_content,'html')\n",
    "message.attach(msg)\n",
    "# Initialize the Drive API\n",
    "\n",
    "for file_attach in files_2_attach:\n",
    "    with open(file_attach, 'rb') as f:\n",
    "        mime_base = MIMEBase('application','octet-stream')\n",
    "        mime_base.set_payload(f.read())\n",
    "        encoders.encode_base64(mime_base)\n",
    "        mime_base.add_header('Content-Disposition','attachment',filename=file_attach)\n",
    "        message.attach(mime_base)\n",
    "\n",
    "encoded_message = base64.urlsafe_b64encode(message.as_bytes()).decode()\n",
    "create_message = {'raw':encoded_message}\n",
    "\n",
    "send_message = service.users().messages().send(userId=\"me\", body=create_message).execute()\n"
   ]
  },
  {
   "cell_type": "code",
   "execution_count": 48,
   "id": "afbf342d-6376-4a0b-bdad-932a9f012c85",
   "metadata": {},
   "outputs": [
    {
     "data": {
      "text/plain": [
       "<googleapiclient.discovery.Resource at 0x110548c50>"
      ]
     },
     "execution_count": 48,
     "metadata": {},
     "output_type": "execute_result"
    }
   ],
   "source": [
    "service"
   ]
  },
  {
   "cell_type": "code",
   "execution_count": 47,
   "id": "03036064-34c5-4c01-b7d3-307dc631dccb",
   "metadata": {},
   "outputs": [
    {
     "data": {
      "text/plain": [
       "'priabraham@gmail.com,lizziehinson96@gmail.com,ilija.medan@vanderbilt.edu,heathergc2k19@gmail.com,Cthomp28@gmail.com,selliott@fwpublishing.com,michael.z.reynolds@vanderbilt.edu,lauren.n.kasper@vanderbilt.edu,riyengar828@gmail.com,jennifer.l.james@vanderbilt.edu,alec.myszka@me.com,info@chefpaulette.net,roman.berens@vanderbilt.edu,beardeadsaint22@outlook.com,Kyle.Hawkins@vanderbilt.edu,a.rockafellar@vanderbilt.edu,margiedz@yahoo.com,Ashley.e.brammer@vanderbilt.edu,Ccoca@fisk.edu,Patricia.a.ward.3@vanderbilt.edu,Kelly.gravity@gmail.com,donald.pickert@VANDERBILT.EDU,coolspringsmoderndentistry@smilegeneration.com,mmarcano@fisk.edu,william.k.teets@vanderbilt.edu,jonathan.bird@vanderbilt.edu,alexandra.f.rockafellar@vanderbilt.edu,info@bsasnashville.com,thryan13@gmail.com,mattdoc@hotmail.com,pencekt@gmail.com,edgar.carrillo@vanderbilt.edu,info@bsasnashville.com,christina.mcgahan@vanderbilt.edu,mary.e.kaldor@vanderbilt.edu,vaiby@hotmail.com,nicholas-tyler.howard@vanderbilt.edu,grimblw@vanderbilt.edu,carolyn.drake@vanderbilt.edu,ryan.nowicki@vanderbilt.edu,erika.taylor@vanderbilt.edu,dyerobservatory@vanderbilt.edu,sean@tentenstudios.com,kaitlyn.t.lane@vanderbilt.edu,reevesaf@gmail.com,miranda@jackalopebrew.com,mcdigman@gmail.com,randy@worklifebalancenashville.com,alupsasca@gmail.com,kHammer8280@aol.com,drew@newtonscannon.com,cate.enstrom@gmail.com,seaychloe@gmail.com,jordandias617@gmail.com,sfrederi7@gmail.com,dbjohnston31@gmail.com,nehemiah.j.williams@gmail.com,bchurlbut@gmail.com,bethcolf@gmail.com,connorparde@gmail.com,jeckelng@gmail.com,dpe00a@gmail.com,aaronkyehudson@gmail.com,abrahamdocs@gmail.com,apeschet@gmail.com,tmwellington@comcast.net,Edgarc.ec@gmail.com,sade.johnson@nashville.gov,donald.filer@yale.edu,warrickelaine@gmail.com,tjpencarinha@gmail.com,mbsnahsville@outlook.com,jgras330@gmail.com,aderdzinski@fisk.edu,eleonore@jackalopebrew.com'"
      ]
     },
     "execution_count": 47,
     "metadata": {},
     "output_type": "execute_result"
    }
   ],
   "source": [
    "','.join(ag.get_contacts(people_service))"
   ]
  },
  {
   "cell_type": "code",
   "execution_count": null,
   "id": "cfb08a14-c465-4cf8-856b-408e0623a0b9",
   "metadata": {},
   "outputs": [],
   "source": []
  }
 ],
 "metadata": {
  "kernelspec": {
   "display_name": "Python 3 (ipykernel)",
   "language": "python",
   "name": "python3"
  },
  "language_info": {
   "codemirror_mode": {
    "name": "ipython",
    "version": 3
   },
   "file_extension": ".py",
   "mimetype": "text/x-python",
   "name": "python",
   "nbconvert_exporter": "python",
   "pygments_lexer": "ipython3",
   "version": "3.12.3"
  }
 },
 "nbformat": 4,
 "nbformat_minor": 5
}
